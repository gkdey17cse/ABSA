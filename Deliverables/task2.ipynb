{
 "cells": [
  {
   "cell_type": "markdown",
   "metadata": {},
   "source": [
    "This Entire Pipeline will \n",
    "1. Preprocess the .json file given by the user & Save them\n",
    "2. Use our already generated fasttext_embeddings_25.pkl from the vocab.txt (this two are computed priorly )\n",
    "3. Load our best baseline model `RNN_Local_Context.pth` and comupte the final Accuracy .\n",
    "\n",
    "##### Run in `base` environement "
   ]
  },
  {
   "cell_type": "code",
   "execution_count": 3,
   "metadata": {},
   "outputs": [
    {
     "name": "stderr",
     "output_type": "stream",
     "text": [
      "e:\\M.Tech CSE\\Software\\Anaconda\\lib\\site-packages\\scipy\\__init__.py:173: UserWarning: A NumPy version >=1.19.5 and <1.27.0 is required for this version of SciPy (detected version 1.19.2)\n",
      "  warnings.warn(f\"A NumPy version >={np_minversion} and <{np_maxversion}\"\n"
     ]
    }
   ],
   "source": [
    "import json\n",
    "import torch\n",
    "import pickle\n",
    "import string\n",
    "import torch.nn.functional as F\n",
    "from nltk.tokenize import word_tokenize\n",
    "from torch.utils.data import DataLoader, Dataset\n",
    "from Requirements.RNN_Local_Context_Class import (\n",
    "    RNNClassifierWithAttention,\n",
    ")  # Import trained model"
   ]
  },
  {
   "cell_type": "markdown",
   "metadata": {},
   "source": [
    "Preprocessing Code (Step 1)"
   ]
  },
  {
   "cell_type": "code",
   "execution_count": 4,
   "metadata": {},
   "outputs": [],
   "source": [
    "# Step 1: Preprocess JSON File\n",
    "def preprocess_json(input_path, output_path):\n",
    "    with open(input_path, \"r\", encoding=\"utf-8\") as f:\n",
    "        data = json.load(f)\n",
    "\n",
    "    processed_data = []\n",
    "    punctuation_set = set(string.punctuation)\n",
    "\n",
    "    for row in data:\n",
    "        sentence = row[\"sentence\"]\n",
    "        tokens = word_tokenize(sentence)\n",
    "        tokens = [token for token in tokens if token not in punctuation_set]\n",
    "        aspect_terms = row[\"aspect_terms\"]\n",
    "        unique_aspect_terms = set()\n",
    "\n",
    "        for each_aspect in aspect_terms:\n",
    "            term = each_aspect[\"term\"]\n",
    "            polarity = each_aspect[\"polarity\"]\n",
    "            index = int(each_aspect[\"from\"])  # Ensure index is captured correctly\n",
    "            if term in unique_aspect_terms:\n",
    "                continue\n",
    "            unique_aspect_terms.add(term)\n",
    "            term_tokens = word_tokenize(term)\n",
    "\n",
    "            processed_data.append(\n",
    "                {\n",
    "                    \"tokens\": tokens,\n",
    "                    \"polarity\": polarity,\n",
    "                    \"aspect_terms\": [term],\n",
    "                    \"index\": index,\n",
    "                }\n",
    "            )\n",
    "\n",
    "    with open(output_path, \"w\", encoding=\"utf-8\") as f:\n",
    "        json.dump(processed_data, f, indent=4)"
   ]
  },
  {
   "cell_type": "markdown",
   "metadata": {},
   "source": [
    "Load Embeddings (Step - 2)"
   ]
  },
  {
   "cell_type": "code",
   "execution_count": 5,
   "metadata": {},
   "outputs": [],
   "source": [
    "# Step 2: Load Pre-trained Embeddings\n",
    "with open(\"Requirements/fasttext_embeddings_25.pkl\", \"rb\") as f:\n",
    "    embeddings = pickle.load(f)\n",
    "\n",
    "\n",
    "def get_embedding(word):\n",
    "    return torch.tensor(embeddings.get(word, torch.zeros(25)), dtype=torch.float32)"
   ]
  },
  {
   "cell_type": "markdown",
   "metadata": {},
   "source": [
    "Define Dataset Class & Load Model"
   ]
  },
  {
   "cell_type": "code",
   "execution_count": 6,
   "metadata": {},
   "outputs": [],
   "source": [
    "# Step 3: Define Dataset Class with Padding Fix\n",
    "class ABSADataset(Dataset):\n",
    "    def __init__(self, file_path):\n",
    "        with open(file_path, \"r\", encoding=\"utf-8\") as f:\n",
    "            self.data = json.load(f)\n",
    "\n",
    "        self.polarity_map = {\"positive\": 0, \"negative\": 1, \"neutral\": 2, \"conflict\": 3}\n",
    "\n",
    "    def __len__(self):\n",
    "        return len(self.data)\n",
    "\n",
    "    def __getitem__(self, idx):\n",
    "        tokens = self.data[idx][\"tokens\"]\n",
    "        polarity = self.data[idx][\"polarity\"]\n",
    "        polarity_label = self.polarity_map.get(polarity, -1)\n",
    "        if polarity_label == -1:\n",
    "            raise ValueError(f\"Unexpected polarity value: {polarity}\")\n",
    "        token_embeddings = [get_embedding(token) for token in tokens]\n",
    "        return torch.stack(token_embeddings), torch.tensor(\n",
    "            polarity_label, dtype=torch.long\n",
    "        )\n",
    "\n",
    "\n",
    "# Step 4: Define Padding Function for Dataloader\n",
    "def collate_fn(batch):\n",
    "    sequences, labels = zip(*batch)\n",
    "    max_len = max(seq.shape[0] for seq in sequences)\n",
    "    padded_sequences = [\n",
    "        F.pad(seq, (0, 0, 0, max_len - seq.shape[0])) for seq in sequences\n",
    "    ]\n",
    "    return torch.stack(padded_sequences), torch.tensor(labels, dtype=torch.long)"
   ]
  },
  {
   "cell_type": "markdown",
   "metadata": {},
   "source": [
    "Load our Pretrained Baseline Model"
   ]
  },
  {
   "cell_type": "code",
   "execution_count": 7,
   "metadata": {},
   "outputs": [
    {
     "data": {
      "text/plain": [
       "RNNClassifierWithAttention(\n",
       "  (rnn): RNN(25, 64, batch_first=True)\n",
       "  (attention): Attention(\n",
       "    (attention): Linear(in_features=64, out_features=1, bias=True)\n",
       "  )\n",
       "  (fc1): Linear(in_features=64, out_features=32, bias=True)\n",
       "  (relu): ReLU()\n",
       "  (fc2): Linear(in_features=32, out_features=4, bias=True)\n",
       ")"
      ]
     },
     "execution_count": 7,
     "metadata": {},
     "output_type": "execute_result"
    }
   ],
   "source": [
    "# Step 5: Process Input File & Load Data\n",
    "input_json = \"val.json\"  # Replace with the actual file provided\n",
    "processed_json = \"processed_data.json\"\n",
    "preprocess_json(input_json, processed_json)\n",
    "\n",
    "dataset = ABSADataset(processed_json)\n",
    "dataloader = DataLoader(dataset, batch_size=32, shuffle=False, collate_fn=collate_fn)\n",
    "\n",
    "# Step 6: Load Trained Model\n",
    "model = RNNClassifierWithAttention()\n",
    "model.load_state_dict(torch.load(\"RNN_Local_Context.pth\"))\n",
    "model.eval()"
   ]
  },
  {
   "cell_type": "markdown",
   "metadata": {},
   "source": [
    "Validation & Accuracy Calculation"
   ]
  },
  {
   "cell_type": "code",
   "execution_count": 8,
   "metadata": {},
   "outputs": [
    {
     "name": "stdout",
     "output_type": "stream",
     "text": [
      "Final Accuracy: 56.65%\n"
     ]
    },
    {
     "name": "stderr",
     "output_type": "stream",
     "text": [
      "<ipython-input-5-035c076d1af4>:7: UserWarning: To copy construct from a tensor, it is recommended to use sourceTensor.clone().detach() or sourceTensor.clone().detach().requires_grad_(True), rather than torch.tensor(sourceTensor).\n",
      "  return torch.tensor(embeddings.get(word, torch.zeros(25)), dtype=torch.float32)\n"
     ]
    }
   ],
   "source": [
    "# Step 7: Run Inference & Compute Accuracy\n",
    "correct, total = 0, 0\n",
    "with torch.no_grad():\n",
    "    for inputs, labels in dataloader:\n",
    "        outputs = model(inputs)\n",
    "        predictions = torch.argmax(outputs, dim=1)\n",
    "        correct += (predictions == labels).sum().item()\n",
    "        total += labels.size(0)\n",
    "\n",
    "accuracy = correct / total * 100\n",
    "print(f\"Final Accuracy: {accuracy:.2f}%\")"
   ]
  },
  {
   "cell_type": "code",
   "execution_count": null,
   "metadata": {},
   "outputs": [],
   "source": []
  }
 ],
 "metadata": {
  "kernelspec": {
   "display_name": "base",
   "language": "python",
   "name": "python3"
  },
  "language_info": {
   "codemirror_mode": {
    "name": "ipython",
    "version": 3
   },
   "file_extension": ".py",
   "mimetype": "text/x-python",
   "name": "python",
   "nbconvert_exporter": "python",
   "pygments_lexer": "ipython3",
   "version": "3.8.5"
  }
 },
 "nbformat": 4,
 "nbformat_minor": 2
}
