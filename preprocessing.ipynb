{
 "cells": [
  {
   "cell_type": "markdown",
   "metadata": {},
   "source": [
    "Code to Preprocess a .json File which will creates tokens as per given instruction"
   ]
  },
  {
   "cell_type": "code",
   "execution_count": null,
   "metadata": {},
   "outputs": [],
   "source": [
    "pip install nltk"
   ]
  },
  {
   "cell_type": "code",
   "execution_count": null,
   "metadata": {},
   "outputs": [],
   "source": [
    "import nltk\n",
    "\n",
    "nltk.download(\"punkt\")\n",
    "\n",
    "print(nltk.__version__)"
   ]
  },
  {
   "cell_type": "code",
   "execution_count": 2,
   "metadata": {},
   "outputs": [],
   "source": [
    "import json\n",
    "import pandas as pd\n",
    "from nltk.tokenize import word_tokenize\n",
    "import string  # Import the string module\n",
    "\n",
    "\n",
    "def preprocessing_json(input_path, output_path):\n",
    "    # Load the JSON data\n",
    "    with open(input_path, \"r\", encoding=\"utf-8\") as f:\n",
    "        data = json.load(f)\n",
    "\n",
    "    # Convert the JSON data to a pandas DataFrame\n",
    "    df = pd.DataFrame(data)\n",
    "\n",
    "    processed_data = []\n",
    "\n",
    "    # Define a set of punctuation characters to filter out\n",
    "    punctuation_set = set(string.punctuation)\n",
    "\n",
    "    for i, row in df.iterrows():\n",
    "        sentence = row[\"sentence\"]\n",
    "        tokens = word_tokenize(sentence)\n",
    "\n",
    "        # Filter out punctuation tokens\n",
    "        tokens = [token for token in tokens if token not in punctuation_set]\n",
    "\n",
    "        aspect_terms = row[\"aspect_terms\"]\n",
    "\n",
    "        # Use a set to track unique aspect terms for this sentence\n",
    "        unique_aspect_terms = set()\n",
    "\n",
    "        for each_aspect in aspect_terms:\n",
    "            term = each_aspect[\"term\"]\n",
    "            polarity = each_aspect[\"polarity\"]\n",
    "\n",
    "            # Skip if this aspect term has already been processed for this sentence\n",
    "            if term in unique_aspect_terms:\n",
    "                continue\n",
    "\n",
    "            unique_aspect_terms.add(term)\n",
    "\n",
    "            term_tokens = word_tokenize(term)\n",
    "\n",
    "            try:\n",
    "                index = next(\n",
    "                    i\n",
    "                    for i in range(len(tokens))\n",
    "                    if tokens[i : i + len(term_tokens)] == term_tokens\n",
    "                )\n",
    "            except StopIteration:\n",
    "                index = -1  # if not found\n",
    "\n",
    "            processed_data.append(\n",
    "                {\n",
    "                    \"tokens\": tokens,\n",
    "                    \"polarity\": polarity,\n",
    "                    \"aspect_terms\": [term],\n",
    "                    \"index\": index,\n",
    "                }\n",
    "            )\n",
    "\n",
    "    # Convert the processed data to a DataFrame\n",
    "    processed_df = pd.DataFrame(processed_data)\n",
    "\n",
    "    # Save the processed data to a JSON file\n",
    "    processed_df.to_json(output_path, orient=\"records\", indent=4)\n",
    "\n",
    "\n",
    "# Input and output file paths\n",
    "input_path = \"train.json\"\n",
    "output_path = \"train_task_2.json\"\n",
    "\n",
    "# Call the preprocessing function\n",
    "preprocessing_json(input_path, output_path)"
   ]
  },
  {
   "cell_type": "code",
   "execution_count": null,
   "metadata": {},
   "outputs": [],
   "source": []
  }
 ],
 "metadata": {
  "kernelspec": {
   "display_name": "base",
   "language": "python",
   "name": "python3"
  },
  "language_info": {
   "codemirror_mode": {
    "name": "ipython",
    "version": 3
   },
   "file_extension": ".py",
   "mimetype": "text/x-python",
   "name": "python",
   "nbconvert_exporter": "python",
   "pygments_lexer": "ipython3",
   "version": "3.8.5"
  }
 },
 "nbformat": 4,
 "nbformat_minor": 2
}
