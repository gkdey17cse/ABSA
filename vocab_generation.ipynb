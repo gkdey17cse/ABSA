{
 "cells": [
  {
   "cell_type": "markdown",
   "metadata": {},
   "source": [
    "Code to create Vocabulary "
   ]
  },
  {
   "cell_type": "code",
   "execution_count": 2,
   "metadata": {},
   "outputs": [
    {
     "name": "stdout",
     "output_type": "stream",
     "text": [
      "Vocabulary Size: 3867 words\n",
      "Vocabulary saved to vocab.txt\n"
     ]
    }
   ],
   "source": [
    "import json\n",
    "\n",
    "# Load preprocessed JSON file\n",
    "with open(\"train_task_2.json\", \"r\", encoding=\"utf-8\") as f:\n",
    "    data = json.load(f)\n",
    "\n",
    "# Extract all tokens and create vocabulary\n",
    "vocab = set()\n",
    "for entry in data:\n",
    "    vocab.update(entry[\"tokens\"])\n",
    "\n",
    "# Convert to list\n",
    "vocab = list(vocab)\n",
    "print(f\"Vocabulary Size: {len(vocab)} words\")\n",
    "\n",
    "# Save vocabulary to a file\n",
    "with open(\"vocab.txt\", \"w\", encoding=\"utf-8\") as f:\n",
    "    for word in vocab:\n",
    "        f.write(word + \"\\n\")\n",
    "\n",
    "print(\"Vocabulary saved to vocab.txt\")"
   ]
  },
  {
   "cell_type": "markdown",
   "metadata": {},
   "source": []
  }
 ],
 "metadata": {
  "kernelspec": {
   "display_name": ".venv",
   "language": "python",
   "name": "python3"
  },
  "language_info": {
   "codemirror_mode": {
    "name": "ipython",
    "version": 3
   },
   "file_extension": ".py",
   "mimetype": "text/x-python",
   "name": "python",
   "nbconvert_exporter": "python",
   "pygments_lexer": "ipython3",
   "version": "3.12.8"
  }
 },
 "nbformat": 4,
 "nbformat_minor": 2
}
